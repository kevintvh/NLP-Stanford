{
 "cells": [
  {
   "cell_type": "markdown",
   "metadata": {},
   "source": [
    "### Q1. Implement a window-based classifier model in q1_window.py using this approach.\n",
    "\n",
    "To do so, you will have to:\n",
    "\n",
    "    i. (4 points) Transform a batch of input sequences into a batch of windowed input-output pairs in the make windowed data function. You can test your implementation by running python q1 window.py test1.\n",
    "    \n",
    "    ii. (6 points) Implement the feed-forward model described above by appropriately completing functions and the variable n window features in the WindowModel class. You can test your implementation by running python q1 window.py test2.\n",
    "    \n",
    "    iii. (3 points) Complete the training loop in method NERModel.fit (ner model.py). The training and validation datasets are already divided, and the outer loop for training multi- ple epochs is also written. You need to examine the function minibatches (utils.py) and Model.train on batch (which NERModel inherits from) and write the training procedure that loops over all minibatches in the dataset.\n",
    "    \n",
    "    iv. (2 points) Train your model using the command python q1 window.py train. The code should take only about 2–3 minutes to run and you should get a development score of at least 81% F1."
   ]
  },
  {
   "cell_type": "code",
   "execution_count": 18,
   "metadata": {},
   "outputs": [
    {
     "name": "stdout",
     "output_type": "stream",
     "text": [
      "/Users/KunWuYao/anaconda/lib/python3.5/site-packages/h5py/__init__.py:34: FutureWarning: Conversion of the second argument of issubdtype from `float` to `np.floating` is deprecated. In future, it will be treated as `np.float64 == np.dtype(float).type`.\n",
      "  from ._conv import register_converters as _register_converters\n",
      "INFO:Testing make_windowed_data\n",
      "[([5, 0, 1, 1, 2, 0], 1), ([1, 1, 2, 0, 3, 3], 2), ([2, 0, 3, 3, 6, 0], 3)]\n",
      "INFO:Passed!\n"
     ]
    }
   ],
   "source": [
    "#q1_window.py Q1.i\n",
    "\n",
    "!python q1_window.py test1"
   ]
  },
  {
   "cell_type": "code",
   "execution_count": null,
   "metadata": {},
   "outputs": [
    {
     "name": "stdout",
     "output_type": "stream",
     "text": [
      "/Users/KunWuYao/anaconda/lib/python3.5/site-packages/h5py/__init__.py:34: FutureWarning: Conversion of the second argument of issubdtype from `float` to `np.floating` is deprecated. In future, it will be treated as `np.float64 == np.dtype(float).type`.\r\n",
      "  from ._conv import register_converters as _register_converters\r\n"
     ]
    }
   ],
   "source": [
    "#q1_window.py Q1.ii\n",
    "!python q1_window.py test2"
   ]
  },
  {
   "cell_type": "code",
   "execution_count": null,
   "metadata": {
    "collapsed": true
   },
   "outputs": [],
   "source": []
  }
 ],
 "metadata": {
  "kernelspec": {
   "display_name": "Python [default]",
   "language": "python",
   "name": "python3"
  },
  "language_info": {
   "codemirror_mode": {
    "name": "ipython",
    "version": 3
   },
   "file_extension": ".py",
   "mimetype": "text/x-python",
   "name": "python",
   "nbconvert_exporter": "python",
   "pygments_lexer": "ipython3",
   "version": "3.5.4"
  }
 },
 "nbformat": 4,
 "nbformat_minor": 2
}
